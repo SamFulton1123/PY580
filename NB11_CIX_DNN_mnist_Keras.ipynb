{
  "cells": [
    {
      "cell_type": "markdown",
      "metadata": {
        "id": "cOB1pdVw0tyC"
      },
      "source": [
        "# Notebook 11: Introduction to Deep Neural Networks with Keras"
      ]
    },
    {
      "cell_type": "markdown",
      "metadata": {
        "id": "E_zfRD-q0tyE"
      },
      "source": [
        "## Learning Goals\n",
        "The goal of this notebook is to introduce deep neural networks (DNNs) using the high-level Keras package. The reader will become familiar with how to choose an architecture, cost function, and optimizer in Keras. We will also learn how to train neural networks.\n",
        "\n",
        "\n",
        "# MNIST with Keras\n",
        "\n",
        "We will once again work with the MNIST dataset of hand written digits introduced in *Notebook 7: Logistic Regression (MNIST)*. The goal is to find a statistical model which recognizes and distinguishes between the ten handwritten digits (0-9).\n",
        "\n",
        "The MNIST dataset comprises $70000$ handwritten digits, each of which comes in a square image, divided into a $28\\times 28$ pixel grid. Every pixel can take on $256$ nuances of the gray color, interpolating between white and black, and hence each data point assumes any value in the set $\\{0,1,\\dots,255\\}$. Since there are $10$ categories in the problem, corresponding to the ten digits, this problem represents a generic classification task. \n",
        "\n",
        "In this Notebook, we show how to use the Keras python package to tackle the MNIST problem with the help of deep neural networks.\n",
        "\n",
        "The following code is a slight modification of a Keras tutorial, see [https://github.com/fchollet/keras/blob/master/examples/mnist_cnn.py](https://github.com/fchollet/keras/blob/master/examples/mnist_cnn.py). We invite the reader to read Sec. IX of the review to acquire a broad understanding of what the separate parts of the code do."
      ]
    },
    {
      "cell_type": "code",
      "execution_count": 2,
      "metadata": {
        "id": "JZJ77_kU0tyF"
      },
      "outputs": [],
      "source": [
        "from __future__ import print_function\n",
        "import keras,sklearn\n",
        "# suppress tensorflow compilation warnings\n",
        "import os\n",
        "os.environ['KMP_DUPLICATE_LIB_OK']='True'\n",
        "import tensorflow as tf\n",
        "os.environ['TF_CPP_MIN_LOG_LEVEL'] = '2'\n",
        "import numpy as np\n",
        "seed=0\n",
        "#np.random.seed(seed) # fix random seed\n",
        "#tf.set_random_seed(seed)\n",
        "import matplotlib.pyplot as plt"
      ]
    },
    {
      "cell_type": "markdown",
      "metadata": {
        "id": "EiTmVaz80tyG"
      },
      "source": [
        "## Structure of the Procedure\n",
        "\n",
        "Constructing a Deep Neural Network to solve ML problems is a multiple-stage process. Quite generally, one can identify the key steps as follows:\n",
        "\n",
        "* ***step 1:*** Load and process the data\n",
        "* ***step 2:*** Define the model and its architecture\n",
        "* ***step 3:*** Choose the optimizer and the cost function\n",
        "* ***step 4:*** Train the model \n",
        "* ***step 5:*** Evaluate the model performance on the *unseen* test data\n",
        "* ***step 6:*** Modify the hyperparameters to optimize performance for the specific data set\n",
        "\n",
        "We would like to emphasize that, while it is always possible to view steps 1-5 as independent of the particular task we are trying to solve, it is only when they are put together in ***step 6*** that the real gain of using Deep Learning is revealed, compared to less sophisticated methods such as the regression models or bagging, described in Secs. VII and VIII of the review. With this remark in mind, we shall focus predominantly on steps 1-5 below. We show how one can use grid search methods to find optimal hyperparameters in ***step 6***."
      ]
    },
    {
      "cell_type": "markdown",
      "metadata": {
        "id": "otU-ql5w0tyG"
      },
      "source": [
        "### Step 1: Load and Process the Data\n",
        "\n",
        "Keras can conveniently download the MNIST data from the web. All we need to do is import the `mnist` module and use the `load_data()` class, and it will create the training and test data sets or us.\n",
        "\n",
        "The MNIST set has pre-defined test and training sets, in order to facilitate the comparison of the performance of different models on the data.\n",
        "\n",
        "Once we have loaded the data, we need to format it in the correct shape. This differs from one package to the other and, as we see in the case of Keras, it can even be different depending on the backend used.\n",
        "\n",
        "While choosing the correct `datatype` can help improve the computational speed, we emphasize the rescaling step, which is necessary to avoid large variations in the minimal and maximal possible values of each feature. In other words, we want to make sure a feature is not being over-represented just because it is \"large\".\n",
        "\n",
        "Last, we cast the label vectors $y$ to binary class matrices (a.k.a. one-hot format), as explained in Sec. VII on SoftMax regression."
      ]
    },
    {
      "cell_type": "code",
      "execution_count": 3,
      "metadata": {
        "colab": {
          "base_uri": "https://localhost:8080/",
          "height": 418
        },
        "id": "2SFGXISC0tyH",
        "outputId": "867e311f-2a52-4015-d913-5975490e77bd"
      },
      "outputs": [
        {
          "output_type": "stream",
          "name": "stdout",
          "text": [
            "Downloading data from https://storage.googleapis.com/tensorflow/tf-keras-datasets/mnist.npz\n",
            "11490434/11490434 [==============================] - 2s 0us/step\n",
            "an example of a data point with label 4\n"
          ]
        },
        {
          "output_type": "display_data",
          "data": {
            "text/plain": [
              "<Figure size 288x288 with 1 Axes>"
            ],
            "image/png": "[encoded data removed]"
          },
          "metadata": {
            "needs_background": "light"
          }
        },
        {
          "output_type": "stream",
          "name": "stdout",
          "text": [
            "X_train shape: (60000, 784)\n",
            "Y_train shape: (60000, 10)\n",
            "\n",
            "60000 train samples\n",
            "10000 test samples\n"
          ]
        }
      ],
      "source": [
        "from keras.datasets import mnist\n",
        "\n",
        "# input image dimensions\n",
        "num_classes = 10 # 10 digits\n",
        "\n",
        "img_rows, img_cols = 28, 28 # number of pixels \n",
        "\n",
        "# the data, shuffled and split between train and test sets\n",
        "(X_train, Y_train), (X_test, Y_test) = mnist.load_data()\n",
        "\n",
        "# reshape data, depending on Keras backend\n",
        "X_train = X_train.reshape(X_train.shape[0], img_rows*img_cols)\n",
        "X_test = X_test.reshape(X_test.shape[0], img_rows*img_cols)\n",
        "    \n",
        "# cast floats to single precesion\n",
        "X_train = X_train.astype('float32')\n",
        "X_test = X_test.astype('float32')\n",
        "\n",
        "# rescale data in interval [0,1]\n",
        "X_train /= 255\n",
        "X_test /= 255\n",
        "\n",
        "# look at an example of data point\n",
        "print('an example of a data point with label', Y_train[20])\n",
        "plt.matshow(X_train[20,:].reshape(28,28),cmap='binary')\n",
        "plt.show()\n",
        "\n",
        "# convert class vectors to binary class matrices\n",
        "Y_train = keras.utils.to_categorical(Y_train, num_classes)\n",
        "Y_test = keras.utils.to_categorical(Y_test, num_classes)\n",
        "\n",
        "print('X_train shape:', X_train.shape)\n",
        "print('Y_train shape:', Y_train.shape)\n",
        "print()\n",
        "print(X_train.shape[0], 'train samples')\n",
        "print(X_test.shape[0], 'test samples')"
      ]
    },
    {
      "cell_type": "markdown",
      "metadata": {
        "id": "W_QoEkyN0tyH"
      },
      "source": [
        "### Step 2: Define the Neural Net and its Architecture\n",
        "\n",
        "We can now move on to construct our deep neural net. We shall use Keras's `Sequential()` class to instantiate a model, and will add different deep layers one by one.\n",
        "\n",
        "At this stage, we refrain from using convolutional layers. This is done further below.\n",
        "\n",
        "Let us create an instance of Keras' `Sequential()` class, called `model`. As the name suggests, this class allows us to build DNNs layer by layer. We use the `add()` method to attach layers to our model. For the purposes of our introductory example, it suffices to focus on `Dense` layers for simplicity. Every `Dense()` layer accepts as its first required argument an integer which specifies the number of neurons. The type of activation function for the layer is defined using the `activation` optional argument, the input of which is the name of the activation function in `string` format. Examples include `relu`, `tanh`, `elu`, `sigmoid`, `softmax`. \n",
        "\n",
        "In order for our DNN to work properly, we have to make sure that the numbers of input and output neurons for each layer match. Therefore, we specify the shape of the input in the first layer of the model explicitly using the optional argument `input_shape=(N_features,)`. The sequential construction of the model then allows Keras to infer the correct input/output dimensions of all hidden layers automatically. Hence, we only need to specify the size of the softmax output layer to match the number of categories."
      ]
    },
    {
      "cell_type": "code",
      "execution_count": 4,
      "metadata": {
        "colab": {
          "base_uri": "https://localhost:8080/"
        },
        "id": "0ngGdvhQ0tyI",
        "outputId": "430bf453-6239-43f0-e258-ff52b37af1c5"
      },
      "outputs": [
        {
          "output_type": "stream",
          "name": "stdout",
          "text": [
            "Model architecture created successfully!\n"
          ]
        }
      ],
      "source": [
        "from keras.models import Sequential\n",
        "from keras.layers import Dense, Dropout, Flatten\n",
        "from keras.layers import Conv2D, MaxPooling2D\n",
        "\n",
        "\n",
        "def create_DNN():\n",
        "    # instantiate model\n",
        "    model = Sequential()\n",
        "    # add a dense all-to-all relu layer\n",
        "    model.add(Dense(400,input_shape=(img_rows*img_cols,), activation='relu'))\n",
        "    # add a dense all-to-all relu layer\n",
        "    model.add(Dense(100, activation='relu'))\n",
        "    # apply dropout with rate 0.5\n",
        "    model.add(Dropout(0.5))\n",
        "    # soft-max layer\n",
        "    model.add(Dense(num_classes, activation='softmax'))\n",
        "    \n",
        "    return model\n",
        "\n",
        "print('Model architecture created successfully!')"
      ]
    },
    {
      "cell_type": "markdown",
      "metadata": {
        "id": "1Os9-0Z60tyI"
      },
      "source": [
        "### Step 3: Choose the Optimizer and the Cost Function\n",
        "\n",
        "Next, we choose the loss function according to which to train the DNN. For classification problems, this is the cross entropy, and since the output data was cast in categorical form, we choose the `categorical_crossentropy` defined in Keras' `losses` module. Depending on the problem of interest one can pick any other suitable loss function. To optimize the weights of the net, we choose SGD. This algorithm is already available to use under Keras' `optimizers` module, but we could use `Adam()` or any other built-in one as well. The parameters for the optimizer, such as `lr` (learning rate) or `momentum` are passed using the corresponding optional arguments of the `SGD()` function. All available arguments can be found in Keras' online documentation at [https://keras.io/](https://keras.io/). While the loss function and the optimizer are essential for the training procedure, to test the performance of the model one may want to look at a particular `metric` of performance. For instance, in categorical tasks one typically looks at their `accuracy`, which is defined as the percentage of correctly classified data points. To complete the definition of our model, we use the `compile()` method, with optional arguments for the `optimizer`, `loss`, and the validation `metric` as follows:"
      ]
    },
    {
      "cell_type": "code",
      "execution_count": 5,
      "metadata": {
        "colab": {
          "base_uri": "https://localhost:8080/"
        },
        "id": "GeUZTeI30tyJ",
        "outputId": "b3438809-492e-438c-b693-31dd96ef3607"
      },
      "outputs": [
        {
          "output_type": "stream",
          "name": "stdout",
          "text": [
            "Model compiled successfully and ready to be trained.\n"
          ]
        }
      ],
      "source": [
        "def compile_model(optimizer=keras.optimizers.Adam()):\n",
        "    # create the mode\n",
        "    model=create_DNN()\n",
        "    # compile the model\n",
        "    model.compile(loss=keras.losses.categorical_crossentropy,\n",
        "                  optimizer=optimizer,\n",
        "                  metrics=['accuracy'])\n",
        "    return model\n",
        "\n",
        "print('Model compiled successfully and ready to be trained.')"
      ]
    },
    {
      "cell_type": "markdown",
      "metadata": {
        "id": "7zsm2bNA0tyJ"
      },
      "source": [
        "### Step 4: Train the model\n",
        "\n",
        "We train our DNN in minibatches, the advantages of which were explained in Sec. IV. \n",
        "\n",
        "Shuffling the training data during training improves stability of the model. Thus, we train over a number of training epochs. \n",
        "\n",
        "Training the DNN is a one-liner using the `fit()` method of the `Sequential` class. The first two required arguments are the training input and output data. As optional arguments, we specify the mini-`batch_size`, the number of training `epochs`, and the test or `validation_data`. To monitor the training procedure for every epoch, we set `verbose=True`. "
      ]
    },
    {
      "cell_type": "code",
      "execution_count": 6,
      "metadata": {
        "colab": {
          "base_uri": "https://localhost:8080/"
        },
        "id": "reaK5Hqg0tyJ",
        "outputId": "f0c70238-0431-4642-9c2b-c8bd12bab89a"
      },
      "outputs": [
        {
          "output_type": "stream",
          "name": "stdout",
          "text": [
            "Epoch 1/10\n",
            "938/938 [==============================] - 13s 13ms/step - loss: 0.3116 - accuracy: 0.9074 - val_loss: 0.1110 - val_accuracy: 0.9652\n",
            "Epoch 2/10\n",
            "938/938 [==============================] - 13s 14ms/step - loss: 0.1248 - accuracy: 0.9645 - val_loss: 0.0821 - val_accuracy: 0.9751\n",
            "Epoch 3/10\n",
            "938/938 [==============================] - 7s 8ms/step - loss: 0.0886 - accuracy: 0.9742 - val_loss: 0.0813 - val_accuracy: 0.9766\n",
            "Epoch 4/10\n",
            "938/938 [==============================] - 8s 9ms/step - loss: 0.0672 - accuracy: 0.9793 - val_loss: 0.0806 - val_accuracy: 0.9767\n",
            "Epoch 5/10\n",
            "938/938 [==============================] - 7s 8ms/step - loss: 0.0540 - accuracy: 0.9836 - val_loss: 0.0644 - val_accuracy: 0.9807\n",
            "Epoch 6/10\n",
            "938/938 [==============================] - 8s 9ms/step - loss: 0.0423 - accuracy: 0.9871 - val_loss: 0.0740 - val_accuracy: 0.9804\n",
            "Epoch 7/10\n",
            "938/938 [==============================] - 8s 8ms/step - loss: 0.0384 - accuracy: 0.9881 - val_loss: 0.0791 - val_accuracy: 0.9780\n",
            "Epoch 8/10\n",
            "938/938 [==============================] - 7s 8ms/step - loss: 0.0319 - accuracy: 0.9894 - val_loss: 0.0696 - val_accuracy: 0.9819\n",
            "Epoch 9/10\n",
            "938/938 [==============================] - 9s 10ms/step - loss: 0.0283 - accuracy: 0.9914 - val_loss: 0.0674 - val_accuracy: 0.9835\n",
            "Epoch 10/10\n",
            "938/938 [==============================] - 7s 8ms/step - loss: 0.0264 - accuracy: 0.9916 - val_loss: 0.0962 - val_accuracy: 0.9773\n"
          ]
        }
      ],
      "source": [
        "# training parameters\n",
        "batch_size = 64\n",
        "epochs = 10\n",
        "\n",
        "# create the deep neural net\n",
        "model_DNN=compile_model()\n",
        "\n",
        "# train DNN and store training info in history\n",
        "history=model_DNN.fit(X_train, Y_train,\n",
        "          batch_size=batch_size,\n",
        "          epochs=epochs,\n",
        "          verbose=1,\n",
        "          validation_data=(X_test, Y_test))"
      ]
    },
    {
      "cell_type": "markdown",
      "metadata": {
        "id": "SlEqiMK20tyJ"
      },
      "source": [
        "### Step 5: Evaluate the Model Performance on the *Unseen* Test Data\n",
        "\n",
        "Next, we evaluate the model and read of the loss on the test data, and its accuracy using the `evaluate()` method."
      ]
    },
    {
      "cell_type": "code",
      "execution_count": 9,
      "metadata": {
        "colab": {
          "base_uri": "https://localhost:8080/",
          "height": 612
        },
        "id": "2g3EZmtl0tyJ",
        "outputId": "19abefd3-ed53-49a3-e11c-cbeb0b614667"
      },
      "outputs": [
        {
          "output_type": "stream",
          "name": "stdout",
          "text": [
            "313/313 [==============================] - 1s 3ms/step - loss: 0.0962 - accuracy: 0.9773\n",
            "\n",
            "Test loss: 0.09621035307645798\n",
            "Test accuracy: 0.9772999882698059\n"
          ]
        },
        {
          "output_type": "display_data",
          "data": {
            "text/plain": [
              "<Figure size 432x288 with 1 Axes>"
            ],
            "image/png": "[encoded data removed]"
          },
          "metadata": {
            "needs_background": "light"
          }
        },
        {
          "output_type": "display_data",
          "data": {
            "text/plain": [
              "<Figure size 432x288 with 1 Axes>"
            ],
            "image/png": "[encoded data removed]"
          },
          "metadata": {
            "needs_background": "light"
          }
        }
      ],
      "source": [
        "# evaluate model\n",
        "score = model_DNN.evaluate(X_test, Y_test, verbose=1)\n",
        "\n",
        "# print performance\n",
        "print()\n",
        "print('Test loss:', score[0])\n",
        "print('Test accuracy:', score[1])\n",
        "\n",
        "# look into training history\n",
        "\n",
        "# summarize history for accuracy\n",
        "plt.plot(history.history['accuracy'])\n",
        "plt.plot(history.history['val_accuracy'])\n",
        "plt.ylabel('model accuracy')\n",
        "plt.xlabel('epoch')\n",
        "plt.legend(['train', 'test'], loc='best')\n",
        "plt.show()\n",
        "\n",
        "# summarize history for loss\n",
        "plt.plot(history.history['loss'])\n",
        "plt.plot(history.history['val_loss'])\n",
        "plt.ylabel('model loss')\n",
        "plt.xlabel('epoch')\n",
        "plt.legend(['train', 'test'], loc='best')\n",
        "plt.show()"
      ]
    },
    {
      "cell_type": "markdown",
      "metadata": {
        "collapsed": true,
        "id": "PXDCjbqo0tyK"
      },
      "source": [
        "### Step 6: Modify the Hyperparameters to Optimize Performance of the Model\n",
        "\n",
        "Last, we show how to use the grid search option of scikit-learn to optimize the \n",
        "hyperparameters of our model. An excellent blog on this by Jason Brownlee can be found on [https://machinelearningmastery.com/grid-search-hyperparameters-deep-learning-models-python-keras/](https://machinelearningmastery.com/grid-search-hyperparameters-deep-learning-models-python-keras/)."
      ]
    },
    {
      "cell_type": "code",
      "execution_count": 10,
      "metadata": {
        "colab": {
          "base_uri": "https://localhost:8080/"
        },
        "id": "rO70uRsV0tyK",
        "outputId": "535356e0-7939-4bf2-e236-8707f9c83e9c"
      },
      "outputs": [
        {
          "output_type": "stream",
          "name": "stderr",
          "text": [
            "<ipython-input-10-061c79d699a5>:5: DeprecationWarning: KerasClassifier is deprecated, use Sci-Keras (https://github.com/adriangb/scikeras) instead. See https://www.adriangb.com/scikeras/stable/migration.html for help migrating.\n",
            "  model_gridsearch = KerasClassifier(build_fn=compile_model,\n"
          ]
        },
        {
          "output_type": "stream",
          "name": "stdout",
          "text": [
            "704/704 [==============================] - 6s 8ms/step - loss: 1.1267 - accuracy: 0.6634\n",
            "235/235 [==============================] - 2s 4ms/step - loss: 0.5126 - accuracy: 0.8687\n",
            "704/704 [==============================] - 5s 7ms/step - loss: 1.1546 - accuracy: 0.6556\n",
            "235/235 [==============================] - 1s 4ms/step - loss: 0.5217 - accuracy: 0.8717\n",
            "704/704 [==============================] - 7s 8ms/step - loss: 1.1991 - accuracy: 0.6420\n",
            "235/235 [==============================] - 1s 4ms/step - loss: 0.5512 - accuracy: 0.8654\n",
            "704/704 [==============================] - 6s 8ms/step - loss: 1.1361 - accuracy: 0.6615\n",
            "235/235 [==============================] - 2s 6ms/step - loss: 0.4920 - accuracy: 0.8812\n",
            "704/704 [==============================] - 6s 8ms/step - loss: 0.3367 - accuracy: 0.9014\n",
            "235/235 [==============================] - 1s 3ms/step - loss: 0.1376 - accuracy: 0.9583\n",
            "704/704 [==============================] - 8s 10ms/step - loss: 0.3401 - accuracy: 0.8998\n",
            "235/235 [==============================] - 1s 3ms/step - loss: 0.1634 - accuracy: 0.9513\n",
            "704/704 [==============================] - 8s 10ms/step - loss: 0.3449 - accuracy: 0.8979\n",
            "235/235 [==============================] - 1s 4ms/step - loss: 0.1577 - accuracy: 0.9525\n",
            "704/704 [==============================] - 7s 10ms/step - loss: 0.3370 - accuracy: 0.9012\n",
            "235/235 [==============================] - 1s 4ms/step - loss: 0.1398 - accuracy: 0.9574\n",
            "704/704 [==============================] - 6s 8ms/step - loss: 1.7751 - accuracy: 0.4544\n",
            "235/235 [==============================] - 1s 4ms/step - loss: 1.1641 - accuracy: 0.7821\n",
            "704/704 [==============================] - 7s 9ms/step - loss: 1.7653 - accuracy: 0.4501\n",
            "235/235 [==============================] - 1s 4ms/step - loss: 1.1715 - accuracy: 0.7809\n",
            "704/704 [==============================] - 7s 8ms/step - loss: 1.7732 - accuracy: 0.4471\n",
            "235/235 [==============================] - 1s 4ms/step - loss: 1.2160 - accuracy: 0.7710\n",
            "704/704 [==============================] - 7s 9ms/step - loss: 1.7491 - accuracy: 0.4605\n",
            "235/235 [==============================] - 1s 5ms/step - loss: 1.1438 - accuracy: 0.7879\n",
            "704/704 [==============================] - 8s 10ms/step - loss: 2.3367 - accuracy: 0.1096\n",
            "235/235 [==============================] - 1s 4ms/step - loss: 2.2563 - accuracy: 0.1489\n",
            "704/704 [==============================] - 9s 11ms/step - loss: 2.3088 - accuracy: 0.1631\n",
            "235/235 [==============================] - 1s 4ms/step - loss: 2.1965 - accuracy: 0.2563\n",
            "704/704 [==============================] - 9s 12ms/step - loss: 2.3413 - accuracy: 0.1020\n",
            "235/235 [==============================] - 1s 4ms/step - loss: 2.2495 - accuracy: 0.1190\n",
            "704/704 [==============================] - 9s 12ms/step - loss: 2.3221 - accuracy: 0.1341\n",
            "235/235 [==============================] - 1s 4ms/step - loss: 2.2111 - accuracy: 0.2029\n",
            "704/704 [==============================] - 8s 11ms/step - loss: 0.3637 - accuracy: 0.8907\n",
            "235/235 [==============================] - 1s 4ms/step - loss: 0.1457 - accuracy: 0.9579\n",
            "704/704 [==============================] - 8s 11ms/step - loss: 0.3532 - accuracy: 0.8946\n",
            "235/235 [==============================] - 1s 4ms/step - loss: 0.1457 - accuracy: 0.9560\n",
            "704/704 [==============================] - 8s 10ms/step - loss: 0.3597 - accuracy: 0.8949\n",
            "235/235 [==============================] - 2s 6ms/step - loss: 0.1502 - accuracy: 0.9553\n",
            "704/704 [==============================] - 8s 10ms/step - loss: 0.3616 - accuracy: 0.8934\n",
            "235/235 [==============================] - 1s 5ms/step - loss: 0.1533 - accuracy: 0.9547\n",
            "704/704 [==============================] - 7s 9ms/step - loss: 0.5089 - accuracy: 0.8516\n",
            "235/235 [==============================] - 1s 4ms/step - loss: 0.2224 - accuracy: 0.9352\n",
            "704/704 [==============================] - 7s 9ms/step - loss: 0.5082 - accuracy: 0.8508\n",
            "235/235 [==============================] - 1s 4ms/step - loss: 0.2327 - accuracy: 0.9331\n",
            "704/704 [==============================] - 7s 9ms/step - loss: 0.4925 - accuracy: 0.8567\n",
            "235/235 [==============================] - 1s 4ms/step - loss: 0.2326 - accuracy: 0.9314\n",
            "704/704 [==============================] - 8s 10ms/step - loss: 0.5103 - accuracy: 0.8515\n",
            "235/235 [==============================] - 1s 4ms/step - loss: 0.2137 - accuracy: 0.9374\n",
            "704/704 [==============================] - 12s 15ms/step - loss: 0.3622 - accuracy: 0.8936\n",
            "235/235 [==============================] - 1s 4ms/step - loss: 0.1486 - accuracy: 0.9556\n",
            "704/704 [==============================] - 10s 12ms/step - loss: 0.3544 - accuracy: 0.8954\n",
            "235/235 [==============================] - 1s 4ms/step - loss: 0.1483 - accuracy: 0.9549\n",
            "704/704 [==============================] - 10s 12ms/step - loss: 0.3548 - accuracy: 0.8962\n",
            "235/235 [==============================] - 1s 4ms/step - loss: 0.1491 - accuracy: 0.9560\n",
            "704/704 [==============================] - 11s 13ms/step - loss: 0.3486 - accuracy: 0.8967\n",
            "235/235 [==============================] - 1s 4ms/step - loss: 0.1435 - accuracy: 0.9548\n",
            "938/938 [==============================] - 11s 11ms/step - loss: 0.3144 - accuracy: 0.9068\n",
            "Best: 0.956000 using {'optimizer': 'Adam'}\n",
            "0.871750 (0.005898) with: {'optimizer': 'SGD'}\n",
            "0.954850 (0.003029) with: {'optimizer': 'RMSprop'}\n",
            "0.780467 (0.006069) with: {'optimizer': 'Adagrad'}\n",
            "0.181767 (0.052489) with: {'optimizer': 'Adadelta'}\n",
            "0.956000 (0.001203) with: {'optimizer': 'Adam'}\n",
            "0.934283 (0.002247) with: {'optimizer': 'Adamax'}\n",
            "0.955333 (0.000490) with: {'optimizer': 'Nadam'}\n"
          ]
        }
      ],
      "source": [
        "from sklearn.model_selection import GridSearchCV\n",
        "from keras.wrappers.scikit_learn import KerasClassifier\n",
        "\n",
        "# call Keras scikit wrapper\n",
        "model_gridsearch = KerasClassifier(build_fn=compile_model, \n",
        "                        epochs=1, \n",
        "                        batch_size=batch_size, \n",
        "                        verbose=1)\n",
        "\n",
        "# list of allowed optional arguments for the optimizer, see `compile_model()`\n",
        "optimizer = ['SGD', 'RMSprop', 'Adagrad', 'Adadelta', 'Adam', 'Adamax', 'Nadam']\n",
        "# define parameter dictionary\n",
        "param_grid = dict(optimizer=optimizer)\n",
        "# call scikit grid search module\n",
        "grid = GridSearchCV(estimator=model_gridsearch, param_grid=param_grid, n_jobs=1, cv=4)\n",
        "grid_result = grid.fit(X_train,Y_train)\n",
        "\n",
        "# summarize results\n",
        "print(\"Best: %f using %s\" % (grid_result.best_score_, grid_result.best_params_))\n",
        "means = grid_result.cv_results_['mean_test_score']\n",
        "stds = grid_result.cv_results_['std_test_score']\n",
        "params = grid_result.cv_results_['params']\n",
        "for mean, stdev, param in zip(means, stds, params):\n",
        "    print(\"%f (%f) with: %r\" % (mean, stdev, param))\n"
      ]
    },
    {
      "cell_type": "markdown",
      "metadata": {
        "id": "jfXAWAR10tyK"
      },
      "source": [
        "## Creating Convolutional Neural Nets with Keras\n",
        "\n",
        "We have so far considered each MNIST data sample as a $(28\\times 28,)$-long 1d vector. This approach neglects any spatial structure in the image. On the other hand, we do know that in every one of the hand-written digits there are *local* spatial correlations between the pixels, which we would like to take advantage of to improve the accuracy of our classification model. To this end, we first need to reshape the training and test input data as follows"
      ]
    },
    {
      "cell_type": "code",
      "execution_count": 13,
      "metadata": {
        "colab": {
          "base_uri": "https://localhost:8080/"
        },
        "id": "EVR9__EN0tyK",
        "outputId": "cca419b9-8801-4ace-a593-a41ce19f5b46"
      },
      "outputs": [
        {
          "output_type": "stream",
          "name": "stdout",
          "text": [
            "X_train shape: (60000, 28, 28, 1)\n",
            "Y_train shape: (60000, 10)\n",
            "\n",
            "60000 train samples\n",
            "10000 test samples\n"
          ]
        }
      ],
      "source": [
        "# reshape data, depending on Keras backend\n",
        "if keras.backend.image_data_format() == 'channels_first':\n",
        "    X_train = X_train.reshape(X_train.shape[0], 1, img_rows, img_cols)\n",
        "    X_test = X_test.reshape(X_test.shape[0], 1, img_rows, img_cols)\n",
        "    input_shape = (1, img_rows, img_cols)\n",
        "else:\n",
        "    X_train = X_train.reshape(X_train.shape[0], img_rows, img_cols, 1)\n",
        "    X_test = X_test.reshape(X_test.shape[0], img_rows, img_cols, 1)\n",
        "    input_shape = (img_rows, img_cols, 1)\n",
        "    \n",
        "print('X_train shape:', X_train.shape)\n",
        "print('Y_train shape:', Y_train.shape)\n",
        "print()\n",
        "print(X_train.shape[0], 'train samples')\n",
        "print(X_test.shape[0], 'test samples')"
      ]
    },
    {
      "cell_type": "markdown",
      "metadata": {
        "id": "e53R8_G70tyK"
      },
      "source": [
        "One can ask the question of whether a neural net can learn to recognize such local patterns. As we saw in Sec. X of the review, this can be achieved by using convolutional layers. Luckily, all we need to do is change the architecture of our DNN, i.e. introduce small changes to the function `create_model()`. We can also merge **Step 2** and **Step 3** for convenience: "
      ]
    },
    {
      "cell_type": "code",
      "execution_count": 14,
      "metadata": {
        "id": "FAstYMNF0tyK"
      },
      "outputs": [],
      "source": [
        "def create_CNN():\n",
        "    # instantiate model\n",
        "    model = Sequential()\n",
        "    # add first convolutional layer with 10 filters (dimensionality of output space)\n",
        "    model.add(Conv2D(10, kernel_size=(5, 5),\n",
        "                     activation='relu',\n",
        "                     input_shape=input_shape))\n",
        "    # add 2D pooling layer\n",
        "    model.add(MaxPooling2D(pool_size=(2, 2)))\n",
        "    # add second convolutional layer with 20 filters\n",
        "    model.add(Conv2D(20, (5, 5), activation='relu'))\n",
        "    # apply dropout with rate 0.5\n",
        "    model.add(Dropout(0.5))\n",
        "    # add 2D pooling layer\n",
        "    model.add(MaxPooling2D(pool_size=(2, 2)))\n",
        "    # flatten data\n",
        "    model.add(Flatten())\n",
        "    # add a dense all-to-all relu layer\n",
        "    model.add(Dense(20*4*4, activation='relu'))\n",
        "    # apply dropout with rate 0.5\n",
        "    model.add(Dropout(0.5))\n",
        "    # soft-max layer\n",
        "    model.add(Dense(num_classes, activation='softmax'))\n",
        "    \n",
        "    # compile the model\n",
        "    model.compile(loss=keras.losses.categorical_crossentropy,\n",
        "                  optimizer='Adam',\n",
        "                  metrics=['accuracy'])\n",
        "    \n",
        "    return model"
      ]
    },
    {
      "cell_type": "markdown",
      "metadata": {
        "id": "6ubBTxeB0tyL"
      },
      "source": [
        "Training the deep conv net (**Step 4**) and evaluating its performance (**Step 6**) proceeds exactly as before:"
      ]
    },
    {
      "cell_type": "code",
      "execution_count": 15,
      "metadata": {
        "colab": {
          "base_uri": "https://localhost:8080/"
        },
        "id": "J5qkBN7a0tyL",
        "outputId": "101b6b64-9981-4bbf-b12e-40f77692d368"
      },
      "outputs": [
        {
          "output_type": "stream",
          "name": "stdout",
          "text": [
            "Epoch 1/10\n",
            "938/938 [==============================] - 43s 44ms/step - loss: 0.2765 - accuracy: 0.9140 - val_loss: 0.0921 - val_accuracy: 0.9784\n",
            "Epoch 2/10\n",
            "938/938 [==============================] - 41s 44ms/step - loss: 0.1128 - accuracy: 0.9659 - val_loss: 0.0574 - val_accuracy: 0.9851\n",
            "Epoch 3/10\n",
            "938/938 [==============================] - 41s 44ms/step - loss: 0.0836 - accuracy: 0.9745 - val_loss: 0.0554 - val_accuracy: 0.9854\n",
            "Epoch 4/10\n",
            "938/938 [==============================] - 41s 44ms/step - loss: 0.0698 - accuracy: 0.9784 - val_loss: 0.0448 - val_accuracy: 0.9880\n",
            "Epoch 5/10\n",
            "938/938 [==============================] - 41s 44ms/step - loss: 0.0598 - accuracy: 0.9816 - val_loss: 0.0380 - val_accuracy: 0.9898\n",
            "Epoch 6/10\n",
            "938/938 [==============================] - 41s 43ms/step - loss: 0.0527 - accuracy: 0.9837 - val_loss: 0.0321 - val_accuracy: 0.9915\n",
            "Epoch 7/10\n",
            "938/938 [==============================] - 43s 46ms/step - loss: 0.0481 - accuracy: 0.9850 - val_loss: 0.0311 - val_accuracy: 0.9904\n",
            "Epoch 8/10\n",
            "938/938 [==============================] - 41s 44ms/step - loss: 0.0454 - accuracy: 0.9864 - val_loss: 0.0330 - val_accuracy: 0.9924\n",
            "Epoch 9/10\n",
            "938/938 [==============================] - 41s 44ms/step - loss: 0.0412 - accuracy: 0.9868 - val_loss: 0.0257 - val_accuracy: 0.9932\n",
            "Epoch 10/10\n",
            "938/938 [==============================] - 40s 43ms/step - loss: 0.0390 - accuracy: 0.9879 - val_loss: 0.0307 - val_accuracy: 0.9912\n",
            "313/313 [==============================] - 3s 8ms/step - loss: 0.0307 - accuracy: 0.9912\n",
            "\n",
            "Test loss: 0.03072914481163025\n",
            "Test accuracy: 0.9911999702453613\n"
          ]
        }
      ],
      "source": [
        "# training parameters\n",
        "batch_size = 64\n",
        "epochs = 10\n",
        "\n",
        "# create the deep conv net\n",
        "model_CNN=create_CNN()\n",
        "\n",
        "# train CNN\n",
        "model_CNN.fit(X_train, Y_train,\n",
        "          batch_size=batch_size,\n",
        "          epochs=epochs,\n",
        "          verbose=1,\n",
        "          validation_data=(X_test, Y_test))\n",
        "\n",
        "# evaliate model\n",
        "score = model_CNN.evaluate(X_test, Y_test, verbose=1)\n",
        "\n",
        "# print performance\n",
        "print()\n",
        "print('Test loss:', score[0])\n",
        "print('Test accuracy:', score[1])"
      ]
    },
    {
      "cell_type": "code",
      "execution_count": null,
      "metadata": {
        "id": "GBe-zlM60tyL"
      },
      "outputs": [],
      "source": []
    }
  ],
  "metadata": {
    "kernelspec": {
      "display_name": "Python 3",
      "language": "python",
      "name": "python3"
    },
    "language_info": {
      "codemirror_mode": {
        "name": "ipython",
        "version": 3
      },
      "file_extension": ".py",
      "mimetype": "text/x-python",
      "name": "python",
      "nbconvert_exporter": "python",
      "pygments_lexer": "ipython3",
      "version": "3.7.1"
    },
    "colab": {
      "provenance": []
    }
  },
  "nbformat": 4,
  "nbformat_minor": 0
}